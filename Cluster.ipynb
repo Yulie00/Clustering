{
 "cells": [
  {
   "cell_type": "code",
   "execution_count": 8,
   "id": "7a038398-96df-4699-8f40-b9d5a51f050e",
   "metadata": {},
   "outputs": [],
   "source": [
    "import numpy as np\n",
    "class KMeans(object):  \n",
    "    def __init__(self, K, init):\n",
    "        self.K = K    # init - аргумент K*M, содержит координаты исходных приближений центров кластеров\n",
    "    # K - количество кластеров    # M - размерность векторов признаковых описаний объектов\n",
    "        self.centers = np.array(init)    \n",
    "        self.eps = 0.001\n",
    "        # координата [i,j] массива init хранит j-ый центр i-го кластера [i, 0]\n",
    "    def fit(self, X): # вычисление оптимальных центров кластеров    # сходимость будет достигнута тогда, когда на следующем шаге центры кластеров не изменятся\n",
    "    # на вход подаются точки и центры кластеров    # X - это какая-то выборка\n",
    "        M, N = X.shape    # M - количество измерений\n",
    "    # N - количество векторов    # как узнать, принадлежит ли точка кластеру?\n",
    "    #for i in range(M):    \n",
    "        while True:\n",
    "            old_centers = self.centers.copy()        \n",
    "            pred = self.predict(X)\n",
    "            clusters = [[] for i in range(self.K)]        \n",
    "            for i in range(M):\n",
    "                clusters[pred[i]].append(X[i])        \n",
    "            for i in range(self.K):\n",
    "                if len(clusters[i]) == 0:                \n",
    "                    clusters[i].append(np.zeros(N))\n",
    "            for i in range(self.K):            \n",
    "                self.centers[i] = np.mean(clusters[i], axis=0)\n",
    "            if np.max(np.linalg.norm(self.centers - old_centers, axis=1)) <= self.eps:            \n",
    "                break               \n",
    "    def predict(self, X): # Функция кластеризации объектов из выборки X\n",
    "    # TODO: write your code here    \n",
    "        M, N = X.shape\n",
    "    # N - количество измерений    # M - количество векторов\n",
    "    # возвращает откластеризованные объекты    # X[N,M]\n",
    "        result = np.zeros(M, dtype=int)    \n",
    "        for i in range(M):\n",
    "            distances = [np.linalg.norm(X[i] - self.centers[k]) for k in range(self.K)]   \n",
    "            result[i] = np.argmin(distances)\n",
    "        return result"
   ]
  },
  {
   "cell_type": "code",
   "execution_count": 9,
   "id": "c8196417-e7e7-49b4-8da3-4d1534f92ff4",
   "metadata": {},
   "outputs": [],
   "source": [
    "kmeans = KMeans(2, np.array([[0, 0], [1, 2]]))\n"
   ]
  },
  {
   "cell_type": "code",
   "execution_count": 10,
   "id": "4f6ac976-744a-4b39-a2ca-fd6df88d8ce9",
   "metadata": {},
   "outputs": [
    {
     "data": {
      "text/plain": [
       "array([[ -0.,  -7.],\n",
       "       [-11.,  -2.],\n",
       "       [-27.,  21.],\n",
       "       [  8.,  -8.],\n",
       "       [ 17.,   4.]])"
      ]
     },
     "execution_count": 10,
     "metadata": {},
     "output_type": "execute_result"
    }
   ],
   "source": [
    "X = np.round(np.random.randn(5, 2) * 10)\n",
    "X"
   ]
  }
 ],
 "metadata": {
  "kernelspec": {
   "display_name": "Python 3 (ipykernel)",
   "language": "python",
   "name": "python3"
  },
  "language_info": {
   "codemirror_mode": {
    "name": "ipython",
    "version": 3
   },
   "file_extension": ".py",
   "mimetype": "text/x-python",
   "name": "python",
   "nbconvert_exporter": "python",
   "pygments_lexer": "ipython3",
   "version": "3.9.13"
  }
 },
 "nbformat": 4,
 "nbformat_minor": 5
}
